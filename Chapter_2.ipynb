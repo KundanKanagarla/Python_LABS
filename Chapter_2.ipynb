{
 "cells": [
  {
   "cell_type": "code",
   "execution_count": 1,
   "id": "150700a0-9381-4bea-b001-557ec9ad7264",
   "metadata": {},
   "outputs": [
    {
     "name": "stdout",
     "output_type": "stream",
     "text": [
      "Bennett\n"
     ]
    }
   ],
   "source": [
    "s = \"Bennett University\"\n",
    "x = s[0:7]\n",
    "print(x)"
   ]
  },
  {
   "cell_type": "code",
   "execution_count": 2,
   "id": "386d278c-780a-46a8-8b2e-8f92c1e41cfe",
   "metadata": {},
   "outputs": [
    {
     "name": "stdout",
     "output_type": "stream",
     "text": [
      "Bnet\n"
     ]
    }
   ],
   "source": [
    "s = \"Bennett University\"\n",
    "x = s[0:7:2]\n",
    "print(x)"
   ]
  },
  {
   "cell_type": "code",
   "execution_count": 3,
   "id": "54fd7471-d22d-4fec-9f8e-8b6e249573db",
   "metadata": {},
   "outputs": [
    {
     "data": {
      "text/plain": [
       "'Bennett University'"
      ]
     },
     "execution_count": 3,
     "metadata": {},
     "output_type": "execute_result"
    }
   ],
   "source": [
    "s = \"Bennett University\"\n",
    "s"
   ]
  },
  {
   "cell_type": "code",
   "execution_count": 4,
   "id": "2d1ef52f-f508-4d2d-b2ca-d4c43c1d7422",
   "metadata": {},
   "outputs": [
    {
     "name": "stdout",
     "output_type": "stream",
     "text": [
      " University\n"
     ]
    }
   ],
   "source": [
    "s = \"Bennett University\"\n",
    "x = s[7:]\n",
    "print(x)"
   ]
  },
  {
   "cell_type": "code",
   "execution_count": 5,
   "id": "4052a9f8-9d61-4f4f-8c1b-aaf30079baba",
   "metadata": {},
   "outputs": [
    {
     "name": "stdout",
     "output_type": "stream",
     "text": [
      "ett University\n"
     ]
    }
   ],
   "source": [
    "s = \"Bennett University\"\n",
    "x = s[4:]\n",
    "print(x)"
   ]
  },
  {
   "cell_type": "code",
   "execution_count": 6,
   "id": "a0f534c2-d3dd-4b58-964f-681a8e154b84",
   "metadata": {},
   "outputs": [
    {
     "name": "stdout",
     "output_type": "stream",
     "text": [
      "BnetUi\n"
     ]
    }
   ],
   "source": [
    "s = \"Bennett University\"\n",
    "x = s[:12:2]\n",
    "print(x)"
   ]
  },
  {
   "cell_type": "code",
   "execution_count": 7,
   "id": "6a7e9d94-e856-451a-986f-0e7212e97ade",
   "metadata": {},
   "outputs": [
    {
     "name": "stdout",
     "output_type": "stream",
     "text": [
      "\n"
     ]
    }
   ],
   "source": [
    "s = \"Hello World!\"\n",
    "x = s[9:2]\n",
    "print(x)"
   ]
  },
  {
   "cell_type": "code",
   "execution_count": 8,
   "id": "f8956e63-e4ae-44d3-a7f4-cc7e53105fd8",
   "metadata": {},
   "outputs": [
    {
     "name": "stdout",
     "output_type": "stream",
     "text": [
      "lroW ol\n"
     ]
    }
   ],
   "source": [
    "s = \"Hello World!\"\n",
    "x = s[9:2:-1]\n",
    "print(x)"
   ]
  },
  {
   "cell_type": "code",
   "execution_count": 9,
   "id": "283008f3-1558-4cd6-9bdf-afc380c4caef",
   "metadata": {},
   "outputs": [
    {
     "name": "stdout",
     "output_type": "stream",
     "text": [
      "lo l\n"
     ]
    }
   ],
   "source": [
    "s = \"Hello World!\"\n",
    "x = s[9:2:-2]\n",
    "print(x)"
   ]
  },
  {
   "cell_type": "code",
   "execution_count": 10,
   "id": "3f8f71c8-451d-4788-902a-e516d985313c",
   "metadata": {},
   "outputs": [
    {
     "name": "stdout",
     "output_type": "stream",
     "text": [
      "lo Wor\n"
     ]
    }
   ],
   "source": [
    "s = \"Hello World!\"\n",
    "x = s[-9:-3]\n",
    "print(x)"
   ]
  },
  {
   "cell_type": "code",
   "execution_count": 11,
   "id": "03bf9590-65ce-4ab5-beac-059f193fe8c7",
   "metadata": {},
   "outputs": [
    {
     "name": "stdout",
     "output_type": "stream",
     "text": [
      "\n"
     ]
    }
   ],
   "source": [
    "s = \"Hello World!\"\n",
    "x = s[-9:-3:-1]\n",
    "print(x)"
   ]
  },
  {
   "cell_type": "code",
   "execution_count": 12,
   "id": "53744872-f5a1-40c5-a96e-3d40a87ce864",
   "metadata": {},
   "outputs": [
    {
     "name": "stdout",
     "output_type": "stream",
     "text": [
      "lroW o\n"
     ]
    }
   ],
   "source": [
    "s = \"Hello World!\"\n",
    "x = s[-3:-9:-1]\n",
    "print(x)"
   ]
  },
  {
   "cell_type": "code",
   "execution_count": 14,
   "id": "1f05cf15-aecd-4f27-a5f9-541b38a8bb0a",
   "metadata": {},
   "outputs": [
    {
     "name": "stdout",
     "output_type": "stream",
     "text": [
      "\n"
     ]
    }
   ],
   "source": [
    "s = \"Hello World!\"\n",
    "x = s[-3:-9]\n",
    "print(x)"
   ]
  },
  {
   "cell_type": "code",
   "execution_count": 15,
   "id": "30a204a2-781a-435f-83c2-58db711d2f3f",
   "metadata": {},
   "outputs": [
    {
     "name": "stdout",
     "output_type": "stream",
     "text": [
      "rld\n"
     ]
    }
   ],
   "source": [
    "s = \"Hello World!\"\n",
    "x = s[-4:-1:1]\n",
    "print(x)"
   ]
  },
  {
   "cell_type": "code",
   "execution_count": 16,
   "id": "450d3d31-b0a1-4e1e-9da2-b6e1a16d1ea0",
   "metadata": {},
   "outputs": [
    {
     "name": "stdout",
     "output_type": "stream",
     "text": [
      "\n"
     ]
    }
   ],
   "source": [
    "s = \"Hello World!\"\n",
    "x = s[-4:-1:-1]\n",
    "print(x)"
   ]
  },
  {
   "cell_type": "code",
   "execution_count": 17,
   "id": "c0a50b58-9301-4cc8-ae04-bd740a0a39d9",
   "metadata": {},
   "outputs": [
    {
     "name": "stdout",
     "output_type": "stream",
     "text": [
      "dlroW ol\n"
     ]
    }
   ],
   "source": [
    "s = \"Hello World!\"\n",
    "x = s[-2:-10:-1]\n",
    "print(x)"
   ]
  },
  {
   "cell_type": "code",
   "execution_count": 18,
   "id": "d6dcefe1-b935-4d63-9c4c-635126a7e4e5",
   "metadata": {},
   "outputs": [
    {
     "name": "stdout",
     "output_type": "stream",
     "text": [
      "Hello World!\n"
     ]
    }
   ],
   "source": [
    "s = \"Hello World!\"\n",
    "x = s[::]\n",
    "print(x)"
   ]
  },
  {
   "cell_type": "code",
   "execution_count": 19,
   "id": "c3cb8f56-a4d3-45be-a318-afa0b26413a2",
   "metadata": {},
   "outputs": [
    {
     "name": "stdout",
     "output_type": "stream",
     "text": [
      "!dlroW olleH\n"
     ]
    }
   ],
   "source": [
    "s = \"Hello World!\"\n",
    "x = s[::-1]\n",
    "print(x)"
   ]
  },
  {
   "cell_type": "code",
   "execution_count": 20,
   "id": "30b91447-d24a-4d6c-b914-3388ad4f3710",
   "metadata": {},
   "outputs": [
    {
     "name": "stdout",
     "output_type": "stream",
     "text": [
      "lleH\n"
     ]
    }
   ],
   "source": [
    "s = \"Hello World!\"\n",
    "x = s[3::-1]\n",
    "print(x)"
   ]
  },
  {
   "cell_type": "code",
   "execution_count": 21,
   "id": "a33a4a53-16c8-4078-814a-1ba91922b2f7",
   "metadata": {},
   "outputs": [
    {
     "name": "stdout",
     "output_type": "stream",
     "text": [
      "!dlroW o\n"
     ]
    }
   ],
   "source": [
    "s = \"Hello World!\"\n",
    "x = s[:3:-1]\n",
    "print(x)"
   ]
  },
  {
   "cell_type": "code",
   "execution_count": 22,
   "id": "d3e70101-d650-4e7c-bdd7-2da5eb9b0263",
   "metadata": {},
   "outputs": [
    {
     "name": "stdout",
     "output_type": "stream",
     "text": [
      "A,p,p,l,e\n",
      "The history saving thread hit an unexpected error (OperationalError('attempt to write a readonly database')).History will not be written to the database.\n"
     ]
    }
   ],
   "source": [
    "s=\"Apple\"\n",
    "p= \",\".join(s)\n",
    "print(p)"
   ]
  },
  {
   "cell_type": "code",
   "execution_count": 23,
   "id": "1b15c006-6d53-4aca-b37b-285fa5eb26ce",
   "metadata": {},
   "outputs": [
    {
     "name": "stdout",
     "output_type": "stream",
     "text": [
      "A,p,p,l,e\n"
     ]
    }
   ],
   "source": [
    "s=\"Apple\"\n",
    "p= \",\".join(s)\n",
    "print(p)"
   ]
  },
  {
   "cell_type": "code",
   "execution_count": 27,
   "id": "f80c5e98-b7c0-4bd8-9a35-1588cb3f8238",
   "metadata": {},
   "outputs": [
    {
     "name": "stdout",
     "output_type": "stream",
     "text": [
      "I like   juice and   pie\n"
     ]
    }
   ],
   "source": [
    "a = \"I like Apple juice and Apple pie\"\n",
    "remove = \"Apple\"\n",
    "\n",
    "result = a.replace(remove, \" \")\n",
    "print(result)"
   ]
  },
  {
   "cell_type": "code",
   "execution_count": null,
   "id": "c6790726-dc94-4d1e-9228-9f02c62c19b7",
   "metadata": {},
   "outputs": [],
   "source": []
  }
 ],
 "metadata": {
  "kernelspec": {
   "display_name": "Python 3 (ipykernel)",
   "language": "python",
   "name": "python3"
  },
  "language_info": {
   "codemirror_mode": {
    "name": "ipython",
    "version": 3
   },
   "file_extension": ".py",
   "mimetype": "text/x-python",
   "name": "python",
   "nbconvert_exporter": "python",
   "pygments_lexer": "ipython3",
   "version": "3.13.5"
  }
 },
 "nbformat": 4,
 "nbformat_minor": 5
}
