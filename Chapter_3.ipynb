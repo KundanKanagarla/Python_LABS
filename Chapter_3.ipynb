{
  "nbformat": 4,
  "nbformat_minor": 0,
  "metadata": {
    "colab": {
      "provenance": []
    },
    "kernelspec": {
      "name": "python3",
      "display_name": "Python 3"
    },
    "language_info": {
      "name": "python"
    }
  },
  "cells": [
    {
      "cell_type": "code",
      "execution_count": 1,
      "metadata": {
        "colab": {
          "base_uri": "https://localhost:8080/"
        },
        "id": "d6m2vuuWteuo",
        "outputId": "88a7dc8a-c2cd-4b64-83bb-7dce5251bd72"
      },
      "outputs": [
        {
          "output_type": "stream",
          "name": "stdout",
          "text": [
            "Enter a Number:23\n",
            "odd\n"
          ]
        }
      ],
      "source": [
        "x = int(input(\"Enter a Number:\"))\n",
        "if  x % 2 == 0:\n",
        "    print(\"even\")\n",
        "else:\n",
        "    print(\"odd\")"
      ]
    },
    {
      "cell_type": "code",
      "source": [
        "x = str(input(\"Enter a Character\"))\n",
        "if(x == 'a'):\n",
        "    print(\"Apple\")\n",
        "elif (x == 'b'):\n",
        "    print(\"Ball\")\n",
        "elif( x == 'c'):\n",
        "    print(\"Cat\")\n",
        "elif( x == 'd'):\n",
        "    print(\"dog\")\n",
        "else:\n",
        "    print(\"Unknown\")\n",
        "\n",
        "print(\"The End\")"
      ],
      "metadata": {
        "colab": {
          "base_uri": "https://localhost:8080/"
        },
        "id": "9ZfETsZAtp6k",
        "outputId": "c8974e32-798d-4460-b1d9-31007eb9ce38"
      },
      "execution_count": 2,
      "outputs": [
        {
          "output_type": "stream",
          "name": "stdout",
          "text": [
            "Enter a Characterb\n",
            "Ball\n",
            "The End\n"
          ]
        }
      ]
    },
    {
      "cell_type": "code",
      "source": [
        "x = int(input(\"Enter a number \"))\n",
        "if( x % 3 == 0):\n",
        "    print(\"3 is a factor\")\n",
        "if( x % 7 == 0):\n",
        "    print(\"7 is a factor\")\n",
        "if( x % 11 == 0):\n",
        "    print(\"11 is a factor\")\n",
        "\n",
        "print(\"the end\")"
      ],
      "metadata": {
        "colab": {
          "base_uri": "https://localhost:8080/"
        },
        "id": "T2SpOe8Wtx8L",
        "outputId": "8ceaee57-01bd-4c0f-af92-93c478ac2e21"
      },
      "execution_count": 3,
      "outputs": [
        {
          "output_type": "stream",
          "name": "stdout",
          "text": [
            "Enter a number 33\n",
            "3 is a factor\n",
            "11 is a factor\n",
            "the end\n"
          ]
        }
      ]
    },
    {
      "cell_type": "code",
      "source": [
        "x = int(input(\"Enter a Number\"))\n",
        "if ( x % 2 == 0):\n",
        "    print(x**2)\n",
        "else:\n",
        "    if(x % 5 == 0):\n",
        "        print(x**3)\n",
        "    else:\n",
        "        print(x*10)\n",
        "\n",
        "print(\"The End\")"
      ],
      "metadata": {
        "colab": {
          "base_uri": "https://localhost:8080/"
        },
        "id": "1G94ZrVut1Jf",
        "outputId": "b88777eb-6531-4cf7-b6e9-8871adfb511c"
      },
      "execution_count": 4,
      "outputs": [
        {
          "output_type": "stream",
          "name": "stdout",
          "text": [
            "Enter a Number55\n",
            "166375\n",
            "The End\n"
          ]
        }
      ]
    },
    {
      "cell_type": "code",
      "source": [
        "x = 1\n",
        "while x <= 10:\n",
        "    print(x)\n",
        "    x = x+1"
      ],
      "metadata": {
        "colab": {
          "base_uri": "https://localhost:8080/"
        },
        "id": "6UnWwCR0t64Z",
        "outputId": "342806df-6402-406c-8b59-bb2ef5136da8"
      },
      "execution_count": 5,
      "outputs": [
        {
          "output_type": "stream",
          "name": "stdout",
          "text": [
            "1\n",
            "2\n",
            "3\n",
            "4\n",
            "5\n",
            "6\n",
            "7\n",
            "8\n",
            "9\n",
            "10\n"
          ]
        }
      ]
    },
    {
      "cell_type": "code",
      "source": [
        "x = 1\n",
        "print(x)"
      ],
      "metadata": {
        "colab": {
          "base_uri": "https://localhost:8080/"
        },
        "id": "44Z6T3q1u870",
        "outputId": "ccd4ab9d-2657-48f7-90f5-5b51a5eba8d2"
      },
      "execution_count": 6,
      "outputs": [
        {
          "output_type": "stream",
          "name": "stdout",
          "text": [
            "1\n"
          ]
        }
      ]
    },
    {
      "cell_type": "code",
      "source": [
        "x = 1\n",
        "while x <= 100:\n",
        "    if x % 10 == 3:\n",
        "        print(x)\n",
        "    x = x + 1\n"
      ],
      "metadata": {
        "colab": {
          "base_uri": "https://localhost:8080/"
        },
        "id": "n-1s7OLgu_Qr",
        "outputId": "992de0e0-1be9-4e53-ae1b-2e12b7069efd"
      },
      "execution_count": 7,
      "outputs": [
        {
          "output_type": "stream",
          "name": "stdout",
          "text": [
            "3\n",
            "13\n",
            "23\n",
            "33\n",
            "43\n",
            "53\n",
            "63\n",
            "73\n",
            "83\n",
            "93\n"
          ]
        }
      ]
    },
    {
      "cell_type": "code",
      "source": [
        "x = 1\n",
        "while ( x <= 100):\n",
        "  if ( x % 10 == 3 and x % 3 == 0):\n",
        "    print (x)\n",
        "  x+=1"
      ],
      "metadata": {
        "colab": {
          "base_uri": "https://localhost:8080/"
        },
        "id": "eb8w1YOevAFL",
        "outputId": "4f705734-7f63-4b43-db4f-8d1bec0426c5"
      },
      "execution_count": 8,
      "outputs": [
        {
          "output_type": "stream",
          "name": "stdout",
          "text": [
            "3\n",
            "33\n",
            "63\n",
            "93\n"
          ]
        }
      ]
    },
    {
      "cell_type": "code",
      "source": [
        "x = 1\n",
        "c = 0\n",
        "\n",
        "while ( x <= 100):\n",
        "  if ( x % 10 == 3 and x % 3 == 0):\n",
        "    c+=1\n",
        "  x+=1\n",
        "print(\"Count:\",c)"
      ],
      "metadata": {
        "colab": {
          "base_uri": "https://localhost:8080/"
        },
        "id": "axed8Am7wJR2",
        "outputId": "e1e47320-c536-400d-8fc8-8ce903ed3fec"
      },
      "execution_count": 9,
      "outputs": [
        {
          "output_type": "stream",
          "name": "stdout",
          "text": [
            "Count: 4\n"
          ]
        }
      ]
    },
    {
      "cell_type": "code",
      "source": [
        "x = 100\n",
        "c = 0\n",
        "while( x <= 135):\n",
        "  if ( x % 7 == 0):\n",
        "    c+=1\n",
        "  x+=1\n",
        "print (c)"
      ],
      "metadata": {
        "colab": {
          "base_uri": "https://localhost:8080/"
        },
        "id": "QjKiRkq0xR63",
        "outputId": "48920980-6bdb-4b08-a471-8f26a3694e4a"
      },
      "execution_count": 10,
      "outputs": [
        {
          "output_type": "stream",
          "name": "stdout",
          "text": [
            "5\n"
          ]
        }
      ]
    },
    {
      "cell_type": "code",
      "source": [
        "x = 1\n",
        "c = 0\n",
        "while( x <= 100):\n",
        "  if(x % 3 == 0):\n",
        "    c+=x\n",
        "  x+=1\n",
        "print(c)"
      ],
      "metadata": {
        "colab": {
          "base_uri": "https://localhost:8080/"
        },
        "id": "6fMQLUUVyuZH",
        "outputId": "fe181818-413e-405c-cbf9-f2419933f6b3"
      },
      "execution_count": 11,
      "outputs": [
        {
          "output_type": "stream",
          "name": "stdout",
          "text": [
            "1683\n"
          ]
        }
      ]
    },
    {
      "cell_type": "code",
      "source": [
        "x = int(input(\"Enter a number\"))\n",
        "i = 1\n",
        "while (i <= 100):\n",
        "  if ( i % x == 0):\n",
        "    print(i)\n",
        "  i+=1"
      ],
      "metadata": {
        "colab": {
          "base_uri": "https://localhost:8080/"
        },
        "id": "hjQ8xs8IzZw7",
        "outputId": "7ab6f014-ce37-4259-dea5-bb528e09568e"
      },
      "execution_count": 16,
      "outputs": [
        {
          "output_type": "stream",
          "name": "stdout",
          "text": [
            "Enter a number21\n",
            "21\n",
            "42\n",
            "63\n",
            "84\n"
          ]
        }
      ]
    },
    {
      "cell_type": "code",
      "source": [
        "x = int(input(\"enter a number\"))\n",
        "i = 1\n",
        "while(i <= x):\n",
        "  if(x % i == 0):\n",
        "    print(i)\n",
        "  i+=1"
      ],
      "metadata": {
        "colab": {
          "base_uri": "https://localhost:8080/"
        },
        "id": "8v0m7Yn_z9cA",
        "outputId": "34d957f0-58b2-4808-e500-e2e890245e9c"
      },
      "execution_count": 13,
      "outputs": [
        {
          "output_type": "stream",
          "name": "stdout",
          "text": [
            "enter a number12\n",
            "1\n",
            "2\n",
            "3\n",
            "4\n",
            "6\n",
            "12\n"
          ]
        }
      ]
    },
    {
      "cell_type": "code",
      "source": [
        "n = int(input(\"Enter n:\"))\n",
        "i = 2\n",
        "c = 0\n",
        "rt = n**0.5\n",
        "while i <= rt:\n",
        "  if n%i ==0:\n",
        "    c += 1\n",
        "    i+=1\n",
        "    if c == 0:\n",
        "      print ('Prime')\n",
        "    else:\n",
        "      print ('Not Prime')"
      ],
      "metadata": {
        "colab": {
          "base_uri": "https://localhost:8080/"
        },
        "id": "xMtK-XPa1-yl",
        "outputId": "c353a65c-3fda-4f62-afb3-47726b05943d"
      },
      "execution_count": 26,
      "outputs": [
        {
          "output_type": "stream",
          "name": "stdout",
          "text": [
            "Enter n:12\n",
            "Not Prime\n",
            "Not Prime\n"
          ]
        }
      ]
    },
    {
      "cell_type": "code",
      "source": [
        "n = 501\n",
        "while n <= 600:\n",
        "    i = 2\n",
        "\n",
        "    rt = n**0.5\n",
        "    while i <= rt:\n",
        "        if n % i == 0:\n",
        "            break\n",
        "        i += 1\n",
        "    else:\n",
        "            print(n)\n",
        "            n += 1"
      ],
      "metadata": {
        "colab": {
          "base_uri": "https://localhost:8080/",
          "height": 207
        },
        "id": "rT444f9HIwho",
        "outputId": "003ecd34-61a2-48fd-aef4-d907198fa9c5"
      },
      "execution_count": 34,
      "outputs": [
        {
          "output_type": "error",
          "ename": "KeyboardInterrupt",
          "evalue": "",
          "traceback": [
            "\u001b[0;31m---------------------------------------------------------------------------\u001b[0m",
            "\u001b[0;31mKeyboardInterrupt\u001b[0m                         Traceback (most recent call last)",
            "\u001b[0;32m/tmp/ipython-input-699344871.py\u001b[0m in \u001b[0;36m<cell line: 0>\u001b[0;34m()\u001b[0m\n\u001b[1;32m      4\u001b[0m \u001b[0;34m\u001b[0m\u001b[0m\n\u001b[1;32m      5\u001b[0m     \u001b[0mrt\u001b[0m \u001b[0;34m=\u001b[0m \u001b[0mn\u001b[0m\u001b[0;34m**\u001b[0m\u001b[0;36m0.5\u001b[0m\u001b[0;34m\u001b[0m\u001b[0;34m\u001b[0m\u001b[0m\n\u001b[0;32m----> 6\u001b[0;31m     \u001b[0;32mwhile\u001b[0m \u001b[0mi\u001b[0m \u001b[0;34m<=\u001b[0m \u001b[0mrt\u001b[0m\u001b[0;34m:\u001b[0m\u001b[0;34m\u001b[0m\u001b[0;34m\u001b[0m\u001b[0m\n\u001b[0m\u001b[1;32m      7\u001b[0m         \u001b[0;32mif\u001b[0m \u001b[0mn\u001b[0m \u001b[0;34m%\u001b[0m \u001b[0mi\u001b[0m \u001b[0;34m==\u001b[0m \u001b[0;36m0\u001b[0m\u001b[0;34m:\u001b[0m\u001b[0;34m\u001b[0m\u001b[0;34m\u001b[0m\u001b[0m\n\u001b[1;32m      8\u001b[0m             \u001b[0;32mbreak\u001b[0m\u001b[0;34m\u001b[0m\u001b[0;34m\u001b[0m\u001b[0m\n",
            "\u001b[0;31mKeyboardInterrupt\u001b[0m: "
          ]
        }
      ]
    },
    {
      "cell_type": "code",
      "source": [
        "x = 5.3\n",
        "y = 5.3\n",
        "print(id(x) , id(y))"
      ],
      "metadata": {
        "id": "Vpo16-pcI0Ey",
        "colab": {
          "base_uri": "https://localhost:8080/"
        },
        "outputId": "c4efcb2a-d582-4f58-cf93-0ce63b2f5444"
      },
      "execution_count": 18,
      "outputs": [
        {
          "output_type": "stream",
          "name": "stdout",
          "text": [
            "132659812960912 132659812963408\n"
          ]
        }
      ]
    },
    {
      "cell_type": "code",
      "source": [
        "n = int(input(\"Enter a number\"))\n",
        "\n",
        "while n > 0:\n",
        "  r = n % 10\n",
        "  print(r, end = \"\")\n",
        "  n = n // 10\n"
      ],
      "metadata": {
        "colab": {
          "base_uri": "https://localhost:8080/"
        },
        "id": "nfQZWShiZRg7",
        "outputId": "ae9bdd20-c5a8-4234-b821-90a4030af4ea"
      },
      "execution_count": 36,
      "outputs": [
        {
          "output_type": "stream",
          "name": "stdout",
          "text": [
            "Enter a number12223\n",
            "32221"
          ]
        }
      ]
    },
    {
      "cell_type": "code",
      "source": [
        "n = int(input(\"Enter a number\"))\n",
        "c = 0\n",
        "b = n\n",
        "\n",
        "while n > 0:\n",
        "  n = n //10\n",
        "  c += 1\n",
        "\n",
        "print(\"Count Of the Digits in \",b, \"is\",c)\n"
      ],
      "metadata": {
        "colab": {
          "base_uri": "https://localhost:8080/"
        },
        "id": "0P6HwZ848xuv",
        "outputId": "6f0ae6c9-ea83-42fe-9914-c4cd59207307"
      },
      "execution_count": 40,
      "outputs": [
        {
          "output_type": "stream",
          "name": "stdout",
          "text": [
            "Enter a number1234\n",
            "Count Of the Digits in  1234 is 4\n"
          ]
        }
      ]
    },
    {
      "cell_type": "code",
      "source": [
        "n = int(input(\"Enter a number\"))\n",
        "b = n\n",
        "c = 0\n",
        "\n",
        "while n > 0:\n",
        "  r = n % 10\n",
        "  n = n // 10\n",
        "  c = c + r\n",
        "\n",
        "print (c)"
      ],
      "metadata": {
        "colab": {
          "base_uri": "https://localhost:8080/"
        },
        "id": "UGQb-dp698t9",
        "outputId": "06ceb8d5-c11c-487e-ff30-d68380c2f39f"
      },
      "execution_count": 41,
      "outputs": [
        {
          "output_type": "stream",
          "name": "stdout",
          "text": [
            "Enter a number1111\n",
            "4\n"
          ]
        }
      ]
    },
    {
      "cell_type": "code",
      "source": [
        "n = int(input(\"Enter number\"))\n",
        "x = n\n",
        "sum = x   # start with x itself (handles single-digit case)\n",
        "\n",
        "while x >= 10:\n",
        "  sum = 0\n",
        "  while x > 0:\n",
        "    r = x % 10\n",
        "    sum = sum + r\n",
        "    x = x // 10\n",
        "  x = sum\n",
        "\n",
        "if sum == 1:\n",
        "  print(n, \"is a magic number\")\n",
        "else:\n",
        "  print(n, \"is not a magic number\")\n"
      ],
      "metadata": {
        "colab": {
          "base_uri": "https://localhost:8080/"
        },
        "id": "3z_xr25_ANCk",
        "outputId": "7e66d472-4917-4677-833e-6ed79d9bf659"
      },
      "execution_count": 10,
      "outputs": [
        {
          "output_type": "stream",
          "name": "stdout",
          "text": [
            "Enter number1\n",
            "1 is a magic number\n"
          ]
        }
      ]
    },
    {
      "cell_type": "code",
      "source": [
        "n = int(input(\"Enter a number\"))\n",
        "x = n\n",
        "rev = 0\n",
        "\n",
        "while n > 0:\n",
        "  r = n % 10\n",
        "  rev = rev * 10 + r\n",
        "  n = n // 10\n",
        "\n",
        "print(rev)"
      ],
      "metadata": {
        "colab": {
          "base_uri": "https://localhost:8080/"
        },
        "id": "lk5KQNVEDjHo",
        "outputId": "e9fd69fe-05fc-451a-d6af-532e9650caa2"
      },
      "execution_count": 9,
      "outputs": [
        {
          "output_type": "stream",
          "name": "stdout",
          "text": [
            "Enter a number1233\n",
            "3321\n"
          ]
        }
      ]
    },
    {
      "cell_type": "code",
      "source": [
        "n = int(input(\"Enter a number: \"))\n",
        "i = 1\n",
        "c = 0\n",
        "\n",
        "while i <= n:\n",
        "    if n % i == 0:\n",
        "        c = c + 1\n",
        "    i += 1\n",
        "\n",
        "print(c)\n"
      ],
      "metadata": {
        "colab": {
          "base_uri": "https://localhost:8080/"
        },
        "id": "LtHm5fSujphe",
        "outputId": "dd973670-c69b-453a-a2e0-b62fded45505"
      },
      "execution_count": 15,
      "outputs": [
        {
          "output_type": "stream",
          "name": "stdout",
          "text": [
            "Enter a number: 12\n",
            "6\n"
          ]
        }
      ]
    },
    {
      "cell_type": "code",
      "source": [
        "n = int(input(\"Enter a number: \"))\n",
        "i = 1\n",
        "s = 0\n",
        "\n",
        "while i <= n//2:\n",
        "    if n % i == 0:\n",
        "        s = s + i\n",
        "    i += 1\n",
        "\n",
        "if s == n:\n",
        "    print(n, \"is a perfect number\")\n",
        "else:\n",
        "    print(n, \"is not a perfect number\")\n"
      ],
      "metadata": {
        "colab": {
          "base_uri": "https://localhost:8080/"
        },
        "id": "MF-Iu35nn962",
        "outputId": "e5e98149-02c0-4233-e869-356b735401fd"
      },
      "execution_count": 3,
      "outputs": [
        {
          "output_type": "stream",
          "name": "stdout",
          "text": [
            "Enter a number: 6\n",
            "6 is a perfect number\n"
          ]
        }
      ]
    },
    {
      "cell_type": "code",
      "source": [
        "n = 1\n",
        "\n",
        "while n < 100:\n",
        "    i = 1\n",
        "    sum_div = 0\n",
        "\n",
        "    while i < n:\n",
        "        if n % i == 0:\n",
        "            sum_div = sum_div + i\n",
        "        i += 1\n",
        "\n",
        "    if sum_div == n:\n",
        "        print(n, \"is a perfect number\")\n",
        "\n",
        "    n += 1\n"
      ],
      "metadata": {
        "colab": {
          "base_uri": "https://localhost:8080/"
        },
        "id": "fLLabZxtoMej",
        "outputId": "c2ca9a2c-5141-473d-a114-a990f69a75e5"
      },
      "execution_count": 4,
      "outputs": [
        {
          "output_type": "stream",
          "name": "stdout",
          "text": [
            "6 is a perfect number\n",
            "28 is a perfect number\n"
          ]
        }
      ]
    },
    {
      "cell_type": "code",
      "source": [
        "for i in range(1,11):\n",
        "  print(i)"
      ],
      "metadata": {
        "colab": {
          "base_uri": "https://localhost:8080/"
        },
        "id": "dLcpLKXarWoj",
        "outputId": "c0dcd420-2216-4db5-cd0b-5d2208669723"
      },
      "execution_count": 1,
      "outputs": [
        {
          "output_type": "stream",
          "name": "stdout",
          "text": [
            "1\n",
            "2\n",
            "3\n",
            "4\n",
            "5\n",
            "6\n",
            "7\n",
            "8\n",
            "9\n",
            "10\n"
          ]
        }
      ]
    },
    {
      "cell_type": "code",
      "source": [
        "range(10)"
      ],
      "metadata": {
        "colab": {
          "base_uri": "https://localhost:8080/"
        },
        "id": "RMTjsP1psvYr",
        "outputId": "3a0aa947-fa67-43f4-e367-1e48da527aef"
      },
      "execution_count": 2,
      "outputs": [
        {
          "output_type": "execute_result",
          "data": {
            "text/plain": [
              "range(0, 10)"
            ]
          },
          "metadata": {},
          "execution_count": 2
        }
      ]
    },
    {
      "cell_type": "code",
      "source": [
        "for i in range(1,10,2):\n",
        "  print(i)"
      ],
      "metadata": {
        "colab": {
          "base_uri": "https://localhost:8080/"
        },
        "id": "LfqGZzbRs01o",
        "outputId": "639b814a-ac7c-4a8b-9f10-63bdbee6e38e"
      },
      "execution_count": 3,
      "outputs": [
        {
          "output_type": "stream",
          "name": "stdout",
          "text": [
            "1\n",
            "3\n",
            "5\n",
            "7\n",
            "9\n"
          ]
        }
      ]
    },
    {
      "cell_type": "code",
      "source": [
        "for i in range(1,11):\n",
        "  print(i)"
      ],
      "metadata": {
        "colab": {
          "base_uri": "https://localhost:8080/"
        },
        "id": "uG1pCc9gtnwG",
        "outputId": "f9bedad6-a9ba-4bf7-f49c-f16c4dd75ee9"
      },
      "execution_count": 5,
      "outputs": [
        {
          "output_type": "stream",
          "name": "stdout",
          "text": [
            "1\n",
            "2\n",
            "3\n",
            "4\n",
            "5\n",
            "6\n",
            "7\n",
            "8\n",
            "9\n",
            "10\n"
          ]
        }
      ]
    },
    {
      "cell_type": "code",
      "source": [
        "s = 'APPLE'\n",
        "for i in s:\n",
        "  print(i)"
      ],
      "metadata": {
        "colab": {
          "base_uri": "https://localhost:8080/"
        },
        "id": "h20zDTwCt1PS",
        "outputId": "945c743c-3e36-4de6-ade2-815fbf677bf4"
      },
      "execution_count": 6,
      "outputs": [
        {
          "output_type": "stream",
          "name": "stdout",
          "text": [
            "A\n",
            "P\n",
            "P\n",
            "L\n",
            "E\n"
          ]
        }
      ]
    },
    {
      "cell_type": "code",
      "source": [
        "for i in range(10):\n",
        "  print(i)"
      ],
      "metadata": {
        "colab": {
          "base_uri": "https://localhost:8080/"
        },
        "id": "6kgeXu06uBex",
        "outputId": "d378eccb-627e-481f-d63a-b70e04cfe461"
      },
      "execution_count": 7,
      "outputs": [
        {
          "output_type": "stream",
          "name": "stdout",
          "text": [
            "0\n",
            "1\n",
            "2\n",
            "3\n",
            "4\n",
            "5\n",
            "6\n",
            "7\n",
            "8\n",
            "9\n"
          ]
        }
      ]
    },
    {
      "cell_type": "code",
      "source": [
        "for i in range(1,4):\n",
        "  print('@')"
      ],
      "metadata": {
        "colab": {
          "base_uri": "https://localhost:8080/"
        },
        "id": "VysT-2K8uZjL",
        "outputId": "b59e2bfa-a61d-4a65-b87d-83e5975b60fc"
      },
      "execution_count": 9,
      "outputs": [
        {
          "output_type": "stream",
          "name": "stdout",
          "text": [
            "@\n",
            "@\n",
            "@\n"
          ]
        }
      ]
    },
    {
      "cell_type": "code",
      "source": [
        "for i in range(4):\n",
        "  for j in range(3):\n",
        "    print(\"Apple\")"
      ],
      "metadata": {
        "colab": {
          "base_uri": "https://localhost:8080/"
        },
        "id": "E_BrhPIFu5M6",
        "outputId": "0ff70292-36ea-4adf-ac2b-934d24909602"
      },
      "execution_count": 10,
      "outputs": [
        {
          "output_type": "stream",
          "name": "stdout",
          "text": [
            "Apple\n",
            "Apple\n",
            "Apple\n",
            "Apple\n",
            "Apple\n",
            "Apple\n",
            "Apple\n",
            "Apple\n",
            "Apple\n",
            "Apple\n",
            "Apple\n",
            "Apple\n"
          ]
        }
      ]
    },
    {
      "cell_type": "code",
      "source": [
        "print(\"apple\", end=\" \")\n",
        "print(\"banana\")"
      ],
      "metadata": {
        "colab": {
          "base_uri": "https://localhost:8080/"
        },
        "id": "MzRsJV8EwD0u",
        "outputId": "8ec2d8ad-7001-4fbb-a322-79b3022b9e64"
      },
      "execution_count": 11,
      "outputs": [
        {
          "output_type": "stream",
          "name": "stdout",
          "text": [
            "apple banana\n"
          ]
        }
      ]
    },
    {
      "cell_type": "code",
      "source": [
        "for i in range(1,6):\n",
        "  for j in range(1,i+1):\n",
        "    print(\"*\", end=\" \")\n",
        "  print()"
      ],
      "metadata": {
        "colab": {
          "base_uri": "https://localhost:8080/"
        },
        "id": "UQq1uZlZxfjy",
        "outputId": "e395321f-d668-4276-bc82-f01d078d3ba1"
      },
      "execution_count": 12,
      "outputs": [
        {
          "output_type": "stream",
          "name": "stdout",
          "text": [
            "* \n",
            "* * \n",
            "* * * \n",
            "* * * * \n",
            "* * * * * \n"
          ]
        }
      ]
    },
    {
      "cell_type": "code",
      "source": [
        "for i in range(1,6):\n",
        "  for j in range(1,i+1):\n",
        "    print(i, end=\" \")\n",
        "  print()"
      ],
      "metadata": {
        "colab": {
          "base_uri": "https://localhost:8080/"
        },
        "id": "nFYcocCJyGqz",
        "outputId": "35d3c8cf-52e0-47d6-9c4e-23b6b2b03c4d"
      },
      "execution_count": 14,
      "outputs": [
        {
          "output_type": "stream",
          "name": "stdout",
          "text": [
            "1 \n",
            "2 2 \n",
            "3 3 3 \n",
            "4 4 4 4 \n",
            "5 5 5 5 5 \n"
          ]
        }
      ]
    },
    {
      "cell_type": "code",
      "source": [
        "for i in range(5,0,-1):\n",
        "  for j in range(1,i+1):\n",
        "    print(i, end=\" \")\n",
        "  print()"
      ],
      "metadata": {
        "colab": {
          "base_uri": "https://localhost:8080/"
        },
        "id": "_ffLXfNK0imv",
        "outputId": "7ce5ee54-8437-46b6-d974-08d4fd3f8714"
      },
      "execution_count": 16,
      "outputs": [
        {
          "output_type": "stream",
          "name": "stdout",
          "text": [
            "5 5 5 5 5 \n",
            "4 4 4 4 \n",
            "3 3 3 \n",
            "2 2 \n",
            "1 \n"
          ]
        }
      ]
    },
    {
      "cell_type": "code",
      "source": [
        "for i in range (1,6):\n",
        "  for j in range(1,i+1):\n",
        "    print(i,end=' ')\n",
        "  print()"
      ],
      "metadata": {
        "colab": {
          "base_uri": "https://localhost:8080/"
        },
        "id": "r2Z9QKTq0sVv",
        "outputId": "fec11ef8-b47d-42b3-e959-d12303cbcd21"
      },
      "execution_count": 19,
      "outputs": [
        {
          "output_type": "stream",
          "name": "stdout",
          "text": [
            "1 \n",
            "2 2 \n",
            "3 3 3 \n",
            "4 4 4 4 \n",
            "5 5 5 5 5 \n"
          ]
        }
      ]
    },
    {
      "cell_type": "code",
      "source": [
        "for i in range (1,6):\n",
        "  for j in range(1,i+1):\n",
        "    print(j,end=' ')\n",
        "  print()"
      ],
      "metadata": {
        "colab": {
          "base_uri": "https://localhost:8080/"
        },
        "id": "Isgser7L1OG7",
        "outputId": "79570597-d023-4c69-be49-7fa680696db9"
      },
      "execution_count": 20,
      "outputs": [
        {
          "output_type": "stream",
          "name": "stdout",
          "text": [
            "1 \n",
            "1 2 \n",
            "1 2 3 \n",
            "1 2 3 4 \n",
            "1 2 3 4 5 \n"
          ]
        }
      ]
    },
    {
      "cell_type": "code",
      "source": [
        "for i in range(5,0,-1):\n",
        "  for j in range(5,i-1,-1):\n",
        "    print(i, end=\"\")\n",
        "  print()"
      ],
      "metadata": {
        "colab": {
          "base_uri": "https://localhost:8080/"
        },
        "id": "9W2qiD6E1lsM",
        "outputId": "2416ed97-9765-4c21-bafd-7483c2254866"
      },
      "execution_count": 21,
      "outputs": [
        {
          "output_type": "stream",
          "name": "stdout",
          "text": [
            "5\n",
            "44\n",
            "333\n",
            "2222\n",
            "11111\n"
          ]
        }
      ]
    },
    {
      "cell_type": "code",
      "source": [
        "for i in range(5,0,-1):\n",
        "  for j in range(5,i-1,-1):\n",
        "    print(j, end=\"\")\n",
        "  print()"
      ],
      "metadata": {
        "colab": {
          "base_uri": "https://localhost:8080/"
        },
        "id": "GZMYHHI82dZ8",
        "outputId": "a1d5e4b8-a729-4cd5-c21d-5928f7a55be9"
      },
      "execution_count": 22,
      "outputs": [
        {
          "output_type": "stream",
          "name": "stdout",
          "text": [
            "5\n",
            "54\n",
            "543\n",
            "5432\n",
            "54321\n"
          ]
        }
      ]
    },
    {
      "cell_type": "code",
      "source": [
        "c = 1\n",
        "for i in range(1,6):\n",
        "  for j in range(1,i+1):\n",
        "    print(c,end=\" \")\n",
        "    c+=1\n",
        "  print()"
      ],
      "metadata": {
        "colab": {
          "base_uri": "https://localhost:8080/"
        },
        "id": "N0jIWqZb2jdq",
        "outputId": "1e9dbbae-0ead-43c0-afd6-a61e1683dae3"
      },
      "execution_count": 24,
      "outputs": [
        {
          "output_type": "stream",
          "name": "stdout",
          "text": [
            "1 \n",
            "2 3 \n",
            "4 5 6 \n",
            "7 8 9 10 \n",
            "11 12 13 14 15 \n"
          ]
        }
      ]
    },
    {
      "cell_type": "code",
      "source": [
        "n = int(input(\"enter a number\"))\n",
        "i = 2\n",
        "rt = n ** 0.5\n",
        "while i <= rt:\n",
        "  if n % i == 0:\n",
        "    print(\"not prime\")\n",
        "    break\n",
        "  i+=1\n",
        "else:\n",
        "  print(\"prime\")"
      ],
      "metadata": {
        "colab": {
          "base_uri": "https://localhost:8080/"
        },
        "id": "-wdEFvUU6PZV",
        "outputId": "8afbb50c-0d3c-49b0-fa74-e1d0c50f8b80"
      },
      "execution_count": 28,
      "outputs": [
        {
          "output_type": "stream",
          "name": "stdout",
          "text": [
            "enter a number7\n",
            "prime\n"
          ]
        }
      ]
    },
    {
      "cell_type": "code",
      "source": [],
      "metadata": {
        "id": "9C9UWIcaFR9U"
      },
      "execution_count": null,
      "outputs": []
    }
  ]
}