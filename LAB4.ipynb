{
  "nbformat": 4,
  "nbformat_minor": 0,
  "metadata": {
    "colab": {
      "provenance": []
    },
    "kernelspec": {
      "name": "python3",
      "display_name": "Python 3"
    },
    "language_info": {
      "name": "python"
    }
  },
  "cells": [
    {
      "cell_type": "markdown",
      "source": [
        "LAB4"
      ],
      "metadata": {
        "id": "9xgwKjFCTXKp"
      }
    },
    {
      "cell_type": "code",
      "source": [
        "'''Rajesh’s basic salary is input through the keyboard. His D.A. is 40% of basic salary, and H.R.A. is 20% of basic salary.\n",
        " Write a program to calculate his gross salary'''\n",
        "BA = int(input(\"Enter Basic Salary\"))\n",
        "DA = BA * 0.4\n",
        "HRA = BA * 0.2\n",
        "Gross_Salary = BA + DA + HRA\n",
        "print(Gross_Salary)"
      ],
      "metadata": {
        "colab": {
          "base_uri": "https://localhost:8080/"
        },
        "id": "kH8JVn6FTc9m",
        "outputId": "a5c437fe-2ed1-47c9-a54b-83d5d4e471ae"
      },
      "execution_count": 4,
      "outputs": [
        {
          "output_type": "stream",
          "name": "stdout",
          "text": [
            "Enter Basic Salary345555\n",
            "552888.0\n"
          ]
        }
      ]
    },
    {
      "cell_type": "code",
      "source": [
        "#The distance between two cities in Km. is input through the keyboard. Write a program to convert and print the result in meters and centimeters.\n",
        "dist = int(input(\"Enter distance between two cities\"))\n",
        "mt = dist * 1000\n",
        "cm = dist * 100000\n",
        "print(mt)\n",
        "print(cm)"
      ],
      "metadata": {
        "colab": {
          "base_uri": "https://localhost:8080/"
        },
        "id": "VEqdDM23i9Su",
        "outputId": "e4d02bad-c02e-4286-997f-9383b7f52b85"
      },
      "execution_count": 6,
      "outputs": [
        {
          "output_type": "stream",
          "name": "stdout",
          "text": [
            "Enter distance between two cities23\n",
            "23000\n",
            "2300000\n"
          ]
        }
      ]
    },
    {
      "cell_type": "code",
      "source": [
        "#Write a program which accepts the amount in dollars and convert into rupees\n",
        "amt = int(input(\"Enter amount in dollars\"))\n",
        "dollar = amt * 88\n",
        "print(dollar)"
      ],
      "metadata": {
        "colab": {
          "base_uri": "https://localhost:8080/"
        },
        "id": "BVNTg2xZj_nO",
        "outputId": "f9c89dbc-5789-4391-8993-2a7f63673586"
      },
      "execution_count": 7,
      "outputs": [
        {
          "output_type": "stream",
          "name": "stdout",
          "text": [
            "Enter amount in dollars23\n",
            "2024\n"
          ]
        }
      ]
    },
    {
      "cell_type": "code",
      "source": [
        "#Write a program to read your address and print it.\n",
        "add = input(\"Enter your address\")\n",
        "print(add)"
      ],
      "metadata": {
        "colab": {
          "base_uri": "https://localhost:8080/"
        },
        "id": "ZOTcAQatlD8l",
        "outputId": "57382a7b-2ee6-4044-8780-442b3a11f316"
      },
      "execution_count": 8,
      "outputs": [
        {
          "output_type": "stream",
          "name": "stdout",
          "text": [
            "Enter your addressjdfbnvuhdsbvekj\n",
            "jdfbnvuhdsbvekj\n"
          ]
        }
      ]
    },
    {
      "cell_type": "code",
      "source": [
        "#Write a program to print the area of a triangle if b and h values are given.\n",
        "b = int(input(\"Enter base\"))\n",
        "h = int(input(\"Enter height\"))\n",
        "area = 0.5 * b * h\n",
        "print(area)"
      ],
      "metadata": {
        "colab": {
          "base_uri": "https://localhost:8080/"
        },
        "id": "YIegguZZp9u8",
        "outputId": "948e5e0d-cd06-4b35-afd5-d8929d87ef96"
      },
      "execution_count": 10,
      "outputs": [
        {
          "output_type": "stream",
          "name": "stdout",
          "text": [
            "Enter base5\n",
            "Enter height3\n",
            "7.5\n"
          ]
        }
      ]
    },
    {
      "cell_type": "code",
      "source": [
        "#Write a program to print the area of a triangle if all three sides are given\n",
        "a = int(input(\"Enter first side\"))\n",
        "b = int(input(\"Enter second side\"))\n",
        "c = int(input(\"Enter third side\"))\n",
        "area = a * b * c\n",
        "print(area)"
      ],
      "metadata": {
        "colab": {
          "base_uri": "https://localhost:8080/"
        },
        "id": "OwNJbmzjqHYH",
        "outputId": "a1a4f167-76c7-4ee5-decd-f6e40f69cfb5"
      },
      "execution_count": 11,
      "outputs": [
        {
          "output_type": "stream",
          "name": "stdout",
          "text": [
            "Enter first side4\n",
            "Enter second side2\n",
            "Enter third side4\n",
            "32\n"
          ]
        }
      ]
    },
    {
      "cell_type": "code",
      "source": [],
      "metadata": {
        "id": "uz78DY9bqX5R"
      },
      "execution_count": null,
      "outputs": []
    }
  ]
}