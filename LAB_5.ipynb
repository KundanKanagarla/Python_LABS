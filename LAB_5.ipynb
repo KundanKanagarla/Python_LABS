{
  "nbformat": 4,
  "nbformat_minor": 0,
  "metadata": {
    "colab": {
      "provenance": []
    },
    "kernelspec": {
      "name": "python3",
      "display_name": "Python 3"
    },
    "language_info": {
      "name": "python"
    }
  },
  "cells": [
    {
      "cell_type": "markdown",
      "source": [
        "LAB 5\n"
      ],
      "metadata": {
        "id": "rUeCqKnFqgjU"
      }
    },
    {
      "cell_type": "code",
      "source": [
        "#Write a program to read the marks of 3 subjects and display the total, avg, class\n",
        "maths = int(input(\"Enter maths marks\"))\n",
        "chem = int(input(\"Enter chem marks\"))\n",
        "bio = int(input(\"Enter bio marks\"))\n",
        "\n",
        "tot = maths + chem + bio\n",
        "avg = tot / 3\n",
        "\n",
        "print (\"total is:\",tot)\n",
        "print (\"avg is:\",avg)\n",
        "\n",
        "if avg >= 90 and avg <= 100:\n",
        "  print(\"Class A\")\n",
        "if avg >= 70 and avg <= 89:\n",
        "  print(\"Class B\")\n",
        "if avg >= 50 and avg <= 69:\n",
        "  print(\"Class C\")\n",
        "else:\n",
        "  print(\"Class D\")\n"
      ],
      "metadata": {
        "colab": {
          "base_uri": "https://localhost:8080/"
        },
        "id": "kAokIoC_qmdk",
        "outputId": "ca76d8c3-9ef5-4752-c61e-096b4481a2fc"
      },
      "execution_count": 5,
      "outputs": [
        {
          "output_type": "stream",
          "name": "stdout",
          "text": [
            "Enter maths marks12\n",
            "Enter chem marks12\n",
            "Enter bio marks12\n",
            "total is: 36\n",
            "avg is: 12.0\n",
            "Class D\n"
          ]
        }
      ]
    },
    {
      "cell_type": "code",
      "source": [
        "#Write a program to check whether the given number is positive or negative.\n",
        "x = float(input(\"Enter a number\"))\n",
        "if x > 0:\n",
        "  print(\"Positive\")\n",
        "else:\n",
        "  print(\"Negative\")"
      ],
      "metadata": {
        "colab": {
          "base_uri": "https://localhost:8080/"
        },
        "id": "r2L9GeVQtUBq",
        "outputId": "2ad1d772-0653-4d0f-888a-df17d4d67daf"
      },
      "execution_count": 10,
      "outputs": [
        {
          "output_type": "stream",
          "name": "stdout",
          "text": [
            "Enter a number-0.5\n",
            "Negative\n"
          ]
        }
      ]
    },
    {
      "cell_type": "code",
      "source": [
        "#Write a program to find out the given number is odd or even.\n",
        "x = int(input(\"Enter a number\"))\n",
        "if x % 2 == 0:\n",
        "  print(\"Even\")\n",
        "else:\n",
        "  print(\"Odd\")"
      ],
      "metadata": {
        "colab": {
          "base_uri": "https://localhost:8080/"
        },
        "id": "nes8XAuq0629",
        "outputId": "3877c37c-b583-4194-a091-2e65db77c5f5"
      },
      "execution_count": 12,
      "outputs": [
        {
          "output_type": "stream",
          "name": "stdout",
          "text": [
            "Enter a number5\n",
            "Odd\n"
          ]
        }
      ]
    },
    {
      "cell_type": "code",
      "source": [
        "#Write a program to find smallest of given two numbers\n",
        "a = int(input(\"Enter a number\"))\n",
        "b = int(input(\"Enter a number\"))\n",
        "\n",
        "if a < b:\n",
        "  print(a,\"is smaller\")\n",
        "else:\n",
        "  print(b,\"is smaller\")"
      ],
      "metadata": {
        "colab": {
          "base_uri": "https://localhost:8080/"
        },
        "id": "1ZHI1qf01gEr",
        "outputId": "00cae550-f919-4fad-f800-ec5dfeb530b2"
      },
      "execution_count": 15,
      "outputs": [
        {
          "output_type": "stream",
          "name": "stdout",
          "text": [
            "Enter a number23\n",
            "Enter a number32\n",
            "23 is smaller\n"
          ]
        }
      ]
    },
    {
      "cell_type": "code",
      "source": [],
      "metadata": {
        "id": "n2dvJK_417BW"
      },
      "execution_count": null,
      "outputs": []
    }
  ]
}