{
  "nbformat": 4,
  "nbformat_minor": 0,
  "metadata": {
    "colab": {
      "provenance": []
    },
    "kernelspec": {
      "name": "python3",
      "display_name": "Python 3"
    },
    "language_info": {
      "name": "python"
    }
  },
  "cells": [
    {
      "cell_type": "markdown",
      "source": [
        "LAB6\n"
      ],
      "metadata": {
        "id": "20aOtn9B2eug"
      }
    },
    {
      "cell_type": "code",
      "source": [
        "# Write a program to find biggest of given three numbers\n",
        "a = int(input(\"Enter first number: \"))\n",
        "b = int(input(\"Enter second number: \"))\n",
        "c = int(input(\"Enter third number: \"))\n",
        "\n",
        "if a >= b and a >= c:\n",
        "    print(a, \"is the biggest number\")\n",
        "else:\n",
        "    if b >= a and b >= c:\n",
        "        print(b, \"is the biggest number\")\n",
        "    else:\n",
        "        print(c, \"is the biggest number\")\n"
      ],
      "metadata": {
        "colab": {
          "base_uri": "https://localhost:8080/"
        },
        "id": "hOESDjfV2hWI",
        "outputId": "4a6187bc-bfcd-4a20-92f5-b56c63b9f66d"
      },
      "execution_count": 10,
      "outputs": [
        {
          "output_type": "stream",
          "name": "stdout",
          "text": [
            "Enter first number: 12\n",
            "Enter second number: 21\n",
            "Enter third number: 23\n",
            "23 is the biggest number\n"
          ]
        }
      ]
    },
    {
      "cell_type": "code",
      "source": [
        "# Write a program to check whether the given year is a leap year or not\n",
        "year = int(input(\"Enter a year: \"))\n",
        "\n",
        "if (year % 4 == 0):\n",
        "    print(year, \"is a leap year.\")\n",
        "else:\n",
        "    print(year, \"is not a leap year.\")\n"
      ],
      "metadata": {
        "colab": {
          "base_uri": "https://localhost:8080/"
        },
        "id": "gac89shI3kfu",
        "outputId": "de1b536a-e66d-4887-bb51-bd4029f061b0"
      },
      "execution_count": 20,
      "outputs": [
        {
          "output_type": "stream",
          "name": "stdout",
          "text": [
            "Enter a year: 2028\n",
            "2028 is a leap year.\n"
          ]
        }
      ]
    },
    {
      "cell_type": "code",
      "source": [
        "#Write a program to find the roots of a given quadratic equation and print the nature of roots.\n",
        "import math\n",
        "\n",
        "a = float(input(\"Enter coefficient a: \"))\n",
        "b = float(input(\"Enter coefficient b: \"))\n",
        "c = float(input(\"Enter coefficient c: \"))\n",
        "\n",
        "D = b**2 - 4*a*c\n",
        "\n",
        "print(\"Discriminant =\", D)\n",
        "\n",
        "if D > 0:\n",
        "    print(\"Roots are real and distinct.\")\n",
        "    root1 = (-b + math.sqrt(D)) / (2*a)\n",
        "    root2 = (-b - math.sqrt(D)) / (2*a)\n",
        "    print(\"Root 1 =\", root1)\n",
        "    print(\"Root 2 =\", root2)\n",
        "\n",
        "elif D == 0:\n",
        "    print(\"Roots are real and equal.\")\n",
        "    root = -b / (2*a)\n",
        "    print(\"Root 1 = Root 2 =\", root)\n",
        "\n",
        "else:\n",
        "    print(\"Roots are imaginary (complex).\")\n",
        "    real_part = -b / (2*a)\n",
        "    imag_part = math.sqrt(abs(D)) / (2*a)\n",
        "    print(\"Root 1 =\", round(real_part, 2), \"+\", round(imag_part, 2), \"i\")\n",
        "    print(\"Root 2 =\", round(real_part, 2), \"-\", round(imag_part, 2), \"i\")"
      ],
      "metadata": {
        "colab": {
          "base_uri": "https://localhost:8080/"
        },
        "id": "muyuqJ5E5iY2",
        "outputId": "ca564af9-a0ee-40b7-a09d-77ee7d60c5be"
      },
      "execution_count": 2,
      "outputs": [
        {
          "output_type": "stream",
          "name": "stdout",
          "text": [
            "Enter coefficient a: 5\n",
            "Enter coefficient b: 4\n",
            "Enter coefficient c: 5\n",
            "Discriminant = -84.0\n",
            "Roots are imaginary (complex).\n",
            "Root 1 = -0.4 + 0.92 i\n",
            "Root 2 = -0.4 - 0.92 i\n"
          ]
        }
      ]
    },
    {
      "cell_type": "code",
      "source": [],
      "metadata": {
        "id": "K9fnpLfM_LIu"
      },
      "execution_count": null,
      "outputs": []
    }
  ]
}