{
  "nbformat": 4,
  "nbformat_minor": 0,
  "metadata": {
    "colab": {
      "provenance": []
    },
    "kernelspec": {
      "name": "python3",
      "display_name": "Python 3"
    },
    "language_info": {
      "name": "python"
    }
  },
  "cells": [
    {
      "cell_type": "markdown",
      "source": [
        "LAB 2\n"
      ],
      "metadata": {
        "id": "5mWBAYxhPAH3"
      }
    },
    {
      "cell_type": "code",
      "source": [
        "#Write a program to find the area and circumference of a circle\n",
        "pi = 3.18\n",
        "rad = int(input(\"Enter radius\"))\n",
        "area = pi * rad * rad\n",
        "peri = 2 * pi * rad\n",
        "print(\"The area of a circle is \",area)\n",
        "print(\"The perimeter of a circle\",peri)"
      ],
      "metadata": {
        "colab": {
          "base_uri": "https://localhost:8080/"
        },
        "id": "8y5eaQoaPFjA",
        "outputId": "83726a85-8340-4bf9-fce6-2fdabd290fe0"
      },
      "execution_count": 2,
      "outputs": [
        {
          "output_type": "stream",
          "name": "stdout",
          "text": [
            "Enter radius6\n",
            "The area of a circle is  114.48000000000002\n",
            "The perimeter of a circle 38.160000000000004\n"
          ]
        }
      ]
    },
    {
      "cell_type": "code",
      "source": [
        "#Write a program to find the area of a sphere\n",
        "pi = 3.18\n",
        "rad = int(input(\"Enter radius\"))\n",
        "area = 4 * pi * rad * rad\n",
        "print(\"The area of a sphere is \",area)"
      ],
      "metadata": {
        "colab": {
          "base_uri": "https://localhost:8080/"
        },
        "id": "6ohBdrq4QEQ_",
        "outputId": "bb9f71e5-60e3-42b9-d76d-763fd5e1612d"
      },
      "execution_count": 3,
      "outputs": [
        {
          "output_type": "stream",
          "name": "stdout",
          "text": [
            "Enter radius4\n",
            "The area of a sphere is  203.52\n"
          ]
        }
      ]
    },
    {
      "cell_type": "code",
      "source": [
        "#Write a program to find the volume of the cylinder\n",
        "pi = 3.18\n",
        "rad = int(input(\"Enter radius\"))\n",
        "h = int(input(\"Enter height\"))\n",
        "vol = pi * rad * rad * h\n",
        "print(\"The volume of a cylinder is \",vol)"
      ],
      "metadata": {
        "colab": {
          "base_uri": "https://localhost:8080/"
        },
        "id": "L6S-UKvkQ-PR",
        "outputId": "7d54763b-cd7f-40b6-9ff7-30c86a2f2c9a"
      },
      "execution_count": 4,
      "outputs": [
        {
          "output_type": "stream",
          "name": "stdout",
          "text": [
            "Enter radius3\n",
            "Enter height2\n",
            "The volume of a cylinder is  57.24000000000001\n"
          ]
        }
      ]
    },
    {
      "cell_type": "code",
      "source": [
        "#Write a program to find your age in days.\n",
        "age = int(input(\"Enter age\"))\n",
        "days = age * 365\n",
        "print(\"your age in days is :\", days)"
      ],
      "metadata": {
        "colab": {
          "base_uri": "https://localhost:8080/"
        },
        "id": "mC47FPmWRPSp",
        "outputId": "015057a7-67ef-47b4-f590-de976ebe54c9"
      },
      "execution_count": 5,
      "outputs": [
        {
          "output_type": "stream",
          "name": "stdout",
          "text": [
            "Enter age22\n",
            "your age in days is : 8030\n"
          ]
        }
      ]
    },
    {
      "cell_type": "code",
      "source": [
        "#Write a program to find the simple interest and compound interest.\n",
        "p = int(input(\"Enter principle amount\"))\n",
        "r = int(input(\"Enter rate of intrest\"))\n",
        "t = int(input(\"Enter time period\"))\n",
        "SI = (p * r * t)/100\n",
        "CI =  (p * (1 + r/100)**t - p)\n",
        "print(\"The simple intrest is \",SI)\n",
        "print(\"The compound intrest is \",CI)"
      ],
      "metadata": {
        "colab": {
          "base_uri": "https://localhost:8080/"
        },
        "id": "FckE1QQxTnUH",
        "outputId": "64ed274d-7745-4c70-8840-473cdff4ecb0"
      },
      "execution_count": 10,
      "outputs": [
        {
          "output_type": "stream",
          "name": "stdout",
          "text": [
            "Enter principle amount35000\n",
            "Enter rate of intrest4\n",
            "Enter time period2\n",
            "The simple intrest is  2800.0\n",
            "The compound intrest is  2856.0000000000073\n"
          ]
        }
      ]
    },
    {
      "cell_type": "code",
      "source": [],
      "metadata": {
        "id": "R0NsoX-wUoXS"
      },
      "execution_count": null,
      "outputs": []
    }
  ]
}