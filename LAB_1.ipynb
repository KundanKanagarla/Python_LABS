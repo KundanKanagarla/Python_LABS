{
  "nbformat": 4,
  "nbformat_minor": 0,
  "metadata": {
    "colab": {
      "provenance": []
    },
    "kernelspec": {
      "name": "python3",
      "display_name": "Python 3"
    },
    "language_info": {
      "name": "python"
    }
  },
  "cells": [
    {
      "cell_type": "markdown",
      "source": [
        "LAB 1\n"
      ],
      "metadata": {
        "id": "ReMwZhfZKuFh"
      }
    },
    {
      "cell_type": "code",
      "source": [
        "#Write a program to add and subtract two numbers.\n",
        "a = 10\n",
        "b = 5\n",
        "c = a + b\n",
        "d = a- b\n",
        "print (c)\n",
        "print (d)"
      ],
      "metadata": {
        "colab": {
          "base_uri": "https://localhost:8080/"
        },
        "id": "rlnx6QgYKxEI",
        "outputId": "d5187d74-501e-4231-b88f-3e414133392c"
      },
      "execution_count": 12,
      "outputs": [
        {
          "output_type": "stream",
          "name": "stdout",
          "text": [
            "15\n",
            "5\n"
          ]
        }
      ]
    },
    {
      "cell_type": "code",
      "source": [
        "#Write a program to multiply and divide two numbers and print them in the form of equation (4*3=12, 8/4=2)\n",
        "a = int(input(\"Enter first number\"))\n",
        "b = int(input(\"Enter second number\"))\n",
        "c = a * b\n",
        "d = a / b\n",
        "print(f\"{a} * {b} = {c}\")\n",
        "print(f\"{a} / {b} = {d}\")"
      ],
      "metadata": {
        "colab": {
          "base_uri": "https://localhost:8080/"
        },
        "id": "N9w40aJ4Lz4O",
        "outputId": "374945c1-636e-40f1-eab3-408ab0798cb4"
      },
      "execution_count": 13,
      "outputs": [
        {
          "output_type": "stream",
          "name": "stdout",
          "text": [
            "Enter first number4\n",
            "Enter second number3\n",
            "4 * 3 = 12\n",
            "4 / 3 = 1.3333333333333333\n"
          ]
        }
      ]
    },
    {
      "cell_type": "code",
      "source": [
        "#Write a program to find the square and cube of a given number.\n",
        "n = int(input(\"Enter a number\"))\n",
        "a = n**2\n",
        "b = n**3\n",
        "print(a)\n",
        "print(b)"
      ],
      "metadata": {
        "colab": {
          "base_uri": "https://localhost:8080/"
        },
        "id": "B0VdyyR8MU2E",
        "outputId": "728a5cb2-8ead-4c66-fde7-d50a5e093989"
      },
      "execution_count": 14,
      "outputs": [
        {
          "output_type": "stream",
          "name": "stdout",
          "text": [
            "Enter a number2\n",
            "4\n",
            "8\n"
          ]
        }
      ]
    },
    {
      "cell_type": "code",
      "source": [
        "#Write a program to find the square root of a given number (use sqrt() function).\n",
        "import math\n",
        "n = int(input(\"Enter a number\"))\n",
        "a = math.sqrt(n)\n",
        "print(a)"
      ],
      "metadata": {
        "colab": {
          "base_uri": "https://localhost:8080/"
        },
        "id": "co_9Hen3M18i",
        "outputId": "f9006f77-5065-4c8b-d7ab-cda26e5e1cec"
      },
      "execution_count": 15,
      "outputs": [
        {
          "output_type": "stream",
          "name": "stdout",
          "text": [
            "Enter a number4\n",
            "2.0\n"
          ]
        }
      ]
    },
    {
      "cell_type": "code",
      "source": [
        "#Write a program to find the area and perimeter of a square.\n",
        "n = int(input(\"Enter a number\"))\n",
        "a = n**2\n",
        "p = 4*n\n",
        "print(\"The Area of a square is:\",a)\n",
        "print(\"The perimeter of a square is:\",p)"
      ],
      "metadata": {
        "colab": {
          "base_uri": "https://localhost:8080/"
        },
        "id": "gmZ-j_nkNtdT",
        "outputId": "5dd3a84c-e21f-45dc-fe9c-c820c11b6ed0"
      },
      "execution_count": 16,
      "outputs": [
        {
          "output_type": "stream",
          "name": "stdout",
          "text": [
            "Enter a number5\n",
            "The Area of a square is: 25\n",
            "The perimeter of a square is: 20\n"
          ]
        }
      ]
    },
    {
      "cell_type": "code",
      "source": [],
      "metadata": {
        "id": "v5N8j2N_OZ_5"
      },
      "execution_count": 16,
      "outputs": []
    }
  ]
}