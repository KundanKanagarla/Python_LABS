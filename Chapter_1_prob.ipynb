{
 "cells": [
  {
   "cell_type": "code",
   "execution_count": 1,
   "id": "777a7d27-1c73-43b2-b555-8a1eff9a52b0",
   "metadata": {},
   "outputs": [
    {
     "name": "stdout",
     "output_type": "stream",
     "text": [
      "65\n"
     ]
    }
   ],
   "source": [
    "x = 65;\n",
    "print(x)"
   ]
  },
  {
   "cell_type": "code",
   "execution_count": 2,
   "id": "b197cc41-e0db-46b6-97e5-34cdd6f06ac6",
   "metadata": {},
   "outputs": [
    {
     "data": {
      "text/plain": [
       "579"
      ]
     },
     "execution_count": 2,
     "metadata": {},
     "output_type": "execute_result"
    }
   ],
   "source": [
    "234+345"
   ]
  },
  {
   "cell_type": "code",
   "execution_count": 3,
   "id": "940cc696-bad5-46bf-a431-e053eda3c0e9",
   "metadata": {},
   "outputs": [
    {
     "data": {
      "text/plain": [
       "8.055555555555555"
      ]
     },
     "execution_count": 3,
     "metadata": {},
     "output_type": "execute_result"
    }
   ],
   "source": [
    "1450/60/3"
   ]
  },
  {
   "cell_type": "code",
   "execution_count": 4,
   "id": "c2f99db1-3990-4e85-b603-f28df49e226e",
   "metadata": {},
   "outputs": [
    {
     "data": {
      "text/plain": [
       "72.5"
      ]
     },
     "execution_count": 4,
     "metadata": {},
     "output_type": "execute_result"
    }
   ],
   "source": [
    "1450/(60/3)"
   ]
  },
  {
   "cell_type": "code",
   "execution_count": 5,
   "id": "d58c7da7-4e1e-4683-9de2-3c9361235411",
   "metadata": {},
   "outputs": [
    {
     "data": {
      "text/plain": [
       "73"
      ]
     },
     "execution_count": 5,
     "metadata": {},
     "output_type": "execute_result"
    }
   ],
   "source": [
    "import math\n",
    "math.ceil(1450/(60/3))"
   ]
  },
  {
   "cell_type": "code",
   "execution_count": 7,
   "id": "28b5dd55-bbb1-42a3-81d2-8187e12d1a58",
   "metadata": {},
   "outputs": [
    {
     "name": "stdout",
     "output_type": "stream",
     "text": [
      "26.832815729997478\n"
     ]
    }
   ],
   "source": [
    "a=7\n",
    "b=8\n",
    "c=9\n",
    "s=(a+b+c)/2\n",
    "\n",
    "a=(s * (s-a) * (s-b) * (s-c)) ** 0.5\n",
    "print(a)"
   ]
  },
  {
   "cell_type": "code",
   "execution_count": 8,
   "id": "d24a6005-bbc5-4327-8470-b574d13726e5",
   "metadata": {},
   "outputs": [
    {
     "name": "stdout",
     "output_type": "stream",
     "text": [
      "<class 'int'>\n"
     ]
    }
   ],
   "source": [
    "x=20\n",
    "print(type(x))"
   ]
  },
  {
   "cell_type": "code",
   "execution_count": 9,
   "id": "f421daeb-16f6-48ac-84eb-8423c825cc91",
   "metadata": {},
   "outputs": [
    {
     "data": {
      "text/plain": [
       "float"
      ]
     },
     "execution_count": 9,
     "metadata": {},
     "output_type": "execute_result"
    }
   ],
   "source": [
    "x= 3.4\n",
    "type(x)"
   ]
  },
  {
   "cell_type": "code",
   "execution_count": 10,
   "id": "eb2c8a46-a4fb-44dc-afa7-e8588f67c34c",
   "metadata": {},
   "outputs": [
    {
     "name": "stdout",
     "output_type": "stream",
     "text": [
      "33.5\n"
     ]
    }
   ],
   "source": [
    "a=2\n",
    "b=33\n",
    "c=32\n",
    "s= a+b+c;\n",
    "\n",
    "avg= s/2\n",
    "print(avg)"
   ]
  },
  {
   "cell_type": "code",
   "execution_count": 11,
   "id": "5f50e1c7-4f77-481f-b8af-9820dace5257",
   "metadata": {},
   "outputs": [
    {
     "name": "stdin",
     "output_type": "stream",
     "text": [
      "enter a value 23\n"
     ]
    }
   ],
   "source": [
    "x= input(\"enter a value\")"
   ]
  },
  {
   "cell_type": "code",
   "execution_count": 12,
   "id": "f6dd78d6-b1ce-42ea-8c29-25832519c21d",
   "metadata": {},
   "outputs": [
    {
     "name": "stdout",
     "output_type": "stream",
     "text": [
      "23\n"
     ]
    }
   ],
   "source": [
    "print(x)"
   ]
  },
  {
   "cell_type": "code",
   "execution_count": 13,
   "id": "a3ff7756-c64e-4cbd-a865-3188b7495b24",
   "metadata": {},
   "outputs": [
    {
     "name": "stdin",
     "output_type": "stream",
     "text": [
      "enter a Value 23\n"
     ]
    }
   ],
   "source": [
    "y = input(\"enter a Value\")"
   ]
  },
  {
   "cell_type": "code",
   "execution_count": 14,
   "id": "f696bf22-fcf5-43c6-ba7c-20c4b3ee5000",
   "metadata": {},
   "outputs": [
    {
     "data": {
      "text/plain": [
       "'2323'"
      ]
     },
     "execution_count": 14,
     "metadata": {},
     "output_type": "execute_result"
    }
   ],
   "source": [
    "x+y"
   ]
  },
  {
   "cell_type": "code",
   "execution_count": 15,
   "id": "ed14e109-44f2-47c2-bb27-15836f06a1d7",
   "metadata": {},
   "outputs": [
    {
     "data": {
      "text/plain": [
       "str"
      ]
     },
     "execution_count": 15,
     "metadata": {},
     "output_type": "execute_result"
    }
   ],
   "source": [
    "type(x)"
   ]
  },
  {
   "cell_type": "code",
   "execution_count": 17,
   "id": "6375f83f-2804-4f13-9ddb-86b07ebde0e0",
   "metadata": {},
   "outputs": [
    {
     "name": "stdin",
     "output_type": "stream",
     "text": [
      "enter a value: 32\n"
     ]
    }
   ],
   "source": [
    "a = int(input(\"enter a value:\") )"
   ]
  },
  {
   "cell_type": "code",
   "execution_count": 18,
   "id": "0f2630b0-9d85-483a-a8fc-3e841a58b207",
   "metadata": {},
   "outputs": [
    {
     "data": {
      "text/plain": [
       "int"
      ]
     },
     "execution_count": 18,
     "metadata": {},
     "output_type": "execute_result"
    }
   ],
   "source": [
    "type(a)"
   ]
  },
  {
   "cell_type": "code",
   "execution_count": 19,
   "id": "80d4c519-b97a-44ba-8ced-f55864e57495",
   "metadata": {},
   "outputs": [
    {
     "name": "stdout",
     "output_type": "stream",
     "text": [
      "3.13.5 | packaged by Anaconda, Inc. | (main, Jun 12 2025, 11:23:37) [Clang 14.0.6 ]\n"
     ]
    }
   ],
   "source": [
    "import sys\n",
    "print(sys.version)"
   ]
  },
  {
   "cell_type": "code",
   "execution_count": 23,
   "id": "cfda0b38-385e-4cce-b461-f5689682df95",
   "metadata": {},
   "outputs": [
    {
     "name": "stdin",
     "output_type": "stream",
     "text": [
      "Enter principal amount:  23445\n",
      "Enter rate of interest (in %):  5\n",
      "Enter the duration (in years):  4\n",
      "Enter number of times interest is compounded per year:  4\n"
     ]
    },
    {
     "name": "stdout",
     "output_type": "stream",
     "text": [
      "Total amount after 4.0 years: 28600.31\n",
      "Compound Interest earned: 5155.31\n"
     ]
    }
   ],
   "source": [
    "# Compound Interest Program\n",
    "\n",
    "p = float(input(\"Enter principal amount: \"))\n",
    "r = float(input(\"Enter rate of interest (in %): \"))\n",
    "t = float(input(\"Enter the duration (in years): \"))\n",
    "n = int(input(\"Enter number of times interest is compounded per year: \"))\n",
    "\n",
    "# Formula: A = P * (1 + r/n)^(n*t)\n",
    "A = p * (1 + (r / 100) / n) ** (n * t)\n",
    "CI = A - p\n",
    "\n",
    "print(f\"Total amount after {t} years: {A:.2f}\")\n",
    "print(f\"Compound Interest earned: {CI:.2f}\")\n"
   ]
  },
  {
   "cell_type": "code",
   "execution_count": 28,
   "id": "f9771b09-6336-48bf-9d69-06330ab966d0",
   "metadata": {},
   "outputs": [
    {
     "name": "stdin",
     "output_type": "stream",
     "text": [
      "Enter number of seconds 3675\n"
     ]
    },
    {
     "name": "stdout",
     "output_type": "stream",
     "text": [
      "3675 seconds = 1hours ,1minutes, 15seconds\n"
     ]
    }
   ],
   "source": [
    "#convert seconds to hours and minutes\n",
    "\n",
    "sec = int(input(\"Enter number of seconds\"))\n",
    "\n",
    "hours = sec//3600\n",
    "min = (sec % 3600) //60\n",
    "rem_sec = sec%60\n",
    "\n",
    "print(f\"{sec} seconds = {hours}hours ,{min}minutes, {rem_sec}seconds\")"
   ]
  },
  {
   "cell_type": "code",
   "execution_count": 29,
   "id": "4c747c62-ceed-4230-8b26-61de8bd3d1f6",
   "metadata": {},
   "outputs": [
    {
     "name": "stdin",
     "output_type": "stream",
     "text": [
      "Enter Your Name: K Surya Kundan\n",
      "Enter Your Address: Bhimavaram, AP , 534201\n",
      "Enter Your Email Id: Kundan@gmail.com\n",
      "Enter Your Ph No 7981648944\n"
     ]
    },
    {
     "name": "stdout",
     "output_type": "stream",
     "text": [
      "Name of the person is: K Surya Kundan\n",
      "The address is: Bhimavaram, AP , 534201\n",
      "Email ID is: Kundan@gmail.com\n",
      "The phone number is: 7981648944\n"
     ]
    }
   ],
   "source": [
    "#Reading name, address, email and phone number of a person \n",
    "\n",
    "name = str(input(\"Enter Your Name:\"))\n",
    "address = str(input(\"Enter Your Address:\"))\n",
    "email = str(input(\"Enter Your Email Id:\"))\n",
    "ph_no = int(input(\"Enter Your Ph No\"))\n",
    "\n",
    "print(f\"Name of the person is: {name}\")\n",
    "print(f\"The address is: {address}\")\n",
    "print(f\"Email ID is: {email}\")\n",
    "print(f\"The phone number is: {ph_no}\")"
   ]
  },
  {
   "cell_type": "code",
   "execution_count": 40,
   "id": "ef6faa85-5019-4971-a408-53fefabd30a7",
   "metadata": {},
   "outputs": [
    {
     "name": "stdin",
     "output_type": "stream",
     "text": [
      "Enter X1 4\n",
      "Enter X2 2\n",
      "Enter Y1 4\n",
      "Enter Y2 2\n"
     ]
    },
    {
     "name": "stdout",
     "output_type": "stream",
     "text": [
      "2.83\n"
     ]
    }
   ],
   "source": [
    "### import math\n",
    "\n",
    "x1 = float(input(\"Enter X1\"))\n",
    "x2 = float(input(\"Enter X2\"))\n",
    "y1 = float(input(\"Enter Y1\"))\n",
    "y2 = float(input(\"Enter Y2\"))\n",
    "\n",
    "dist= math.sqrt(((x2-x1)**2) + ((y2-y1)**2))\n",
    "print(f\"{dist:.2f}\")"
   ]
  },
  {
   "cell_type": "code",
   "execution_count": null,
   "id": "804f8742-2533-4820-824c-aa15a5a9e997",
   "metadata": {},
   "outputs": [],
   "source": []
  }
 ],
 "metadata": {
  "kernelspec": {
   "display_name": "Python 3 (ipykernel)",
   "language": "python",
   "name": "python3"
  },
  "language_info": {
   "codemirror_mode": {
    "name": "ipython",
    "version": 3
   },
   "file_extension": ".py",
   "mimetype": "text/x-python",
   "name": "python",
   "nbconvert_exporter": "python",
   "pygments_lexer": "ipython3",
   "version": "3.13.5"
  }
 },
 "nbformat": 4,
 "nbformat_minor": 5
}
