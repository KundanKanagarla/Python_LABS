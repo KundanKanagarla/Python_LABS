{
  "nbformat": 4,
  "nbformat_minor": 0,
  "metadata": {
    "colab": {
      "provenance": []
    },
    "kernelspec": {
      "name": "python3",
      "display_name": "Python 3"
    },
    "language_info": {
      "name": "python"
    }
  },
  "cells": [
    {
      "cell_type": "markdown",
      "source": [
        "LAB 3"
      ],
      "metadata": {
        "id": "9-LWkiLFwKdi"
      }
    },
    {
      "cell_type": "code",
      "source": [
        "#The total mechanical energy of a particle is given by e=mgh+1/2mv\n",
        "m= int(input(\"Enter mass: \"))\n",
        "h= int(input(\"Enter height: \"))\n",
        "g= int(input(\"Enter gravity: \"))\n",
        "v= int(input(\"Enter velocity:\"))\n",
        "e = ((m * g * h )+ (1/2 * m * v))\n",
        "print (e)"
      ],
      "metadata": {
        "colab": {
          "base_uri": "https://localhost:8080/"
        },
        "id": "cnZCQubZwQYM",
        "outputId": "52170334-ba17-47f4-90e2-35445de60a72"
      },
      "execution_count": 2,
      "outputs": [
        {
          "output_type": "stream",
          "name": "stdout",
          "text": [
            "Enter mass: 44\n",
            "Enter height: 34\n",
            "Enter gravity: 3\n",
            "Enter velocity:56\n",
            "5720.0\n"
          ]
        }
      ]
    },
    {
      "cell_type": "code",
      "source": [
        "#Write a program to convert the given seconds into hours – minutes – seconds.\n",
        "seconds = int(input(\"Enter total seconds: \"))\n",
        "\n",
        "hours = seconds // 3600\n",
        "seconds %= 3600\n",
        "minutes = seconds // 60\n",
        "seconds %= 60\n",
        "print(f\"Time: {hours} hour, {minutes} minutes, and {seconds} seconds\")"
      ],
      "metadata": {
        "colab": {
          "base_uri": "https://localhost:8080/"
        },
        "id": "SVasbfLGyQj_",
        "outputId": "dde6248c-1f6c-4fac-939b-568bc6e2b89a"
      },
      "execution_count": 6,
      "outputs": [
        {
          "output_type": "stream",
          "name": "stdout",
          "text": [
            "Enter total seconds: 5545\n",
            "Time: 1 hour, 32 minutes, and 25 seconds\n"
          ]
        }
      ]
    },
    {
      "cell_type": "code",
      "source": [
        "#The temperature of the city is input through the keyboard in Fahrenheit. Write a program to convert into Celsius.\n",
        "fah = float(input(\"Enter temperature in farenheit\"))\n",
        "cel = (fah - 32) * 5 / 9\n",
        "round_cel = round(cel,2)\n",
        "print((round_cel))"
      ],
      "metadata": {
        "colab": {
          "base_uri": "https://localhost:8080/"
        },
        "id": "s1_-ZFZH2j3o",
        "outputId": "f8bfa38c-afba-4e1f-b4d8-8e20b250b80e"
      },
      "execution_count": 9,
      "outputs": [
        {
          "output_type": "stream",
          "name": "stdout",
          "text": [
            "Enter temperature in farenheit62\n",
            "16.67\n"
          ]
        }
      ]
    },
    {
      "cell_type": "code",
      "source": [
        "#Two numbers are input into two locations ‘a’ and ‘b’ Write a program to interchange the contents of ‘a’ and ‘b’ without using temporary variables\n",
        "a = int(input(\"Enter first number:\"))\n",
        "b = int(input(\"Enter second number:\"))\n",
        "a = a+b\n",
        "b = a-b\n",
        "a = a-b\n",
        "print(a)\n",
        "print(b)"
      ],
      "metadata": {
        "colab": {
          "base_uri": "https://localhost:8080/"
        },
        "id": "ZmvWbf0x4n1b",
        "outputId": "7b07cc46-57bf-414f-aff6-2d4518d57bc4"
      },
      "execution_count": 10,
      "outputs": [
        {
          "output_type": "stream",
          "name": "stdout",
          "text": [
            "Enter first number:2\n",
            "Enter second number:5\n",
            "5\n",
            "2\n"
          ]
        }
      ]
    },
    {
      "cell_type": "code",
      "source": [
        "#Given the coordinates of two points (x1, y1) and (x2, y2). Write a program to find the distance between these two points\n",
        "x1 = int(input(\"Enter x1:\"))\n",
        "y1 = int(input(\"Enter y1:\"))\n",
        "x2 = int(input(\"Enter x2:\"))\n",
        "y2 = int(input(\"Enter y2:\"))\n",
        "d = ((x2-x1)**2 + (y2-y1)**2)**2\n",
        "print(d)"
      ],
      "metadata": {
        "colab": {
          "base_uri": "https://localhost:8080/"
        },
        "id": "c6xD5NrKSn3Z",
        "outputId": "fecd8078-d835-4c9d-b70d-dd66403ffc4b"
      },
      "execution_count": 11,
      "outputs": [
        {
          "output_type": "stream",
          "name": "stdout",
          "text": [
            "Enter x1:23\n",
            "Enter y1:43\n",
            "Enter x2:12\n",
            "Enter y2:23\n",
            "271441\n"
          ]
        }
      ]
    },
    {
      "cell_type": "code",
      "source": [],
      "metadata": {
        "id": "CrI4UewOTJI5"
      },
      "execution_count": null,
      "outputs": []
    }
  ]
}